{
  "cells": [
    {
      "cell_type": "markdown",
      "metadata": {
        "id": "PSVtSFbvDI-0"
      },
      "source": [
        "1. Load & prepare Data\n",
        "2. Calc covariance matrix\n",
        "3. Calc eigen values & eigen vector\n",
        "4. Formulate the Q matrix\n",
        "5. Evaluate Q Matrices\n",
        "6. Select the best Q\n",
        "7. Visualization"
      ]
    },
    {
      "cell_type": "code",
      "source": [
        "import kagglehub\n",
        "yasserh_titanic_dataset_path = kagglehub.dataset_download('yasserh/titanic-dataset')\n",
        "\n",
        "print('Data source import complete.')\n"
      ],
      "metadata": {
        "colab": {
          "base_uri": "https://localhost:8080/"
        },
        "id": "PtZ8Nm-3XajV",
        "outputId": "0fdff608-7dbe-4344-be54-4fbb07cca312"
      },
      "execution_count": 1,
      "outputs": [
        {
          "output_type": "stream",
          "name": "stdout",
          "text": [
            "Warning: Looks like you're using an outdated `kagglehub` version (installed: 0.3.5), please consider upgrading to the latest version (0.3.6).\n",
            "Data source import complete.\n"
          ]
        }
      ]
    },
    {
      "cell_type": "code",
      "source": [
        "print(yasserh_titanic_dataset_path)"
      ],
      "metadata": {
        "colab": {
          "base_uri": "https://localhost:8080/"
        },
        "id": "EtMz7WzvXbhh",
        "outputId": "bf6ee387-9b2e-468f-82d9-5b895c9a6b70"
      },
      "execution_count": 2,
      "outputs": [
        {
          "output_type": "stream",
          "name": "stdout",
          "text": [
            "/root/.cache/kagglehub/datasets/yasserh/titanic-dataset/versions/1\n"
          ]
        }
      ]
    },
    {
      "cell_type": "markdown",
      "metadata": {
        "id": "-p90ZPk5DI-2"
      },
      "source": [
        "# Load, Resize & Normalize Data"
      ]
    },
    {
      "cell_type": "code",
      "execution_count": 3,
      "metadata": {
        "execution": {
          "iopub.execute_input": "2024-12-23T14:01:06.895562Z",
          "iopub.status.busy": "2024-12-23T14:01:06.895098Z",
          "iopub.status.idle": "2024-12-23T14:01:14.304330Z",
          "shell.execute_reply": "2024-12-23T14:01:14.303267Z",
          "shell.execute_reply.started": "2024-12-23T14:01:06.895513Z"
        },
        "id": "UTQG7cRVDI-2",
        "trusted": true
      },
      "outputs": [],
      "source": [
        "import os\n",
        "from PIL import Image\n",
        "from torchvision import transforms\n",
        "import matplotlib.pyplot as plt\n",
        "import numpy as np\n",
        "import pandas as pd\n",
        "from sklearn.model_selection import train_test_split\n",
        "from sklearn.preprocessing import StandardScaler\n",
        "from itertools import combinations"
      ]
    },
    {
      "cell_type": "code",
      "execution_count": 4,
      "metadata": {
        "execution": {
          "iopub.execute_input": "2024-12-23T14:01:30.802694Z",
          "iopub.status.busy": "2024-12-23T14:01:30.800631Z",
          "iopub.status.idle": "2024-12-23T14:01:30.853733Z",
          "shell.execute_reply": "2024-12-23T14:01:30.852541Z",
          "shell.execute_reply.started": "2024-12-23T14:01:30.802646Z"
        },
        "trusted": true,
        "colab": {
          "base_uri": "https://localhost:8080/",
          "height": 206
        },
        "id": "OwcqXnIJWvPy",
        "outputId": "028eeaee-0d9c-431a-d299-2fd524f3c598"
      },
      "outputs": [
        {
          "output_type": "execute_result",
          "data": {
            "text/plain": [
              "   Pclass                                               Name     Sex   Age  \\\n",
              "0       3                            Braund, Mr. Owen Harris    male  22.0   \n",
              "1       1  Cumings, Mrs. John Bradley (Florence Briggs Th...  female  38.0   \n",
              "2       3                             Heikkinen, Miss. Laina  female  26.0   \n",
              "3       1       Futrelle, Mrs. Jacques Heath (Lily May Peel)  female  35.0   \n",
              "4       3                           Allen, Mr. William Henry    male  35.0   \n",
              "\n",
              "   SibSp  Parch            Ticket     Fare Cabin Embarked  \n",
              "0      1      0         A/5 21171   7.2500   NaN        S  \n",
              "1      1      0          PC 17599  71.2833   C85        C  \n",
              "2      0      0  STON/O2. 3101282   7.9250   NaN        S  \n",
              "3      1      0            113803  53.1000  C123        S  \n",
              "4      0      0            373450   8.0500   NaN        S  "
            ],
            "text/html": [
              "\n",
              "  <div id=\"df-65858542-6a2d-4d54-841f-10d3918dcc37\" class=\"colab-df-container\">\n",
              "    <div>\n",
              "<style scoped>\n",
              "    .dataframe tbody tr th:only-of-type {\n",
              "        vertical-align: middle;\n",
              "    }\n",
              "\n",
              "    .dataframe tbody tr th {\n",
              "        vertical-align: top;\n",
              "    }\n",
              "\n",
              "    .dataframe thead th {\n",
              "        text-align: right;\n",
              "    }\n",
              "</style>\n",
              "<table border=\"1\" class=\"dataframe\">\n",
              "  <thead>\n",
              "    <tr style=\"text-align: right;\">\n",
              "      <th></th>\n",
              "      <th>Pclass</th>\n",
              "      <th>Name</th>\n",
              "      <th>Sex</th>\n",
              "      <th>Age</th>\n",
              "      <th>SibSp</th>\n",
              "      <th>Parch</th>\n",
              "      <th>Ticket</th>\n",
              "      <th>Fare</th>\n",
              "      <th>Cabin</th>\n",
              "      <th>Embarked</th>\n",
              "    </tr>\n",
              "  </thead>\n",
              "  <tbody>\n",
              "    <tr>\n",
              "      <th>0</th>\n",
              "      <td>3</td>\n",
              "      <td>Braund, Mr. Owen Harris</td>\n",
              "      <td>male</td>\n",
              "      <td>22.0</td>\n",
              "      <td>1</td>\n",
              "      <td>0</td>\n",
              "      <td>A/5 21171</td>\n",
              "      <td>7.2500</td>\n",
              "      <td>NaN</td>\n",
              "      <td>S</td>\n",
              "    </tr>\n",
              "    <tr>\n",
              "      <th>1</th>\n",
              "      <td>1</td>\n",
              "      <td>Cumings, Mrs. John Bradley (Florence Briggs Th...</td>\n",
              "      <td>female</td>\n",
              "      <td>38.0</td>\n",
              "      <td>1</td>\n",
              "      <td>0</td>\n",
              "      <td>PC 17599</td>\n",
              "      <td>71.2833</td>\n",
              "      <td>C85</td>\n",
              "      <td>C</td>\n",
              "    </tr>\n",
              "    <tr>\n",
              "      <th>2</th>\n",
              "      <td>3</td>\n",
              "      <td>Heikkinen, Miss. Laina</td>\n",
              "      <td>female</td>\n",
              "      <td>26.0</td>\n",
              "      <td>0</td>\n",
              "      <td>0</td>\n",
              "      <td>STON/O2. 3101282</td>\n",
              "      <td>7.9250</td>\n",
              "      <td>NaN</td>\n",
              "      <td>S</td>\n",
              "    </tr>\n",
              "    <tr>\n",
              "      <th>3</th>\n",
              "      <td>1</td>\n",
              "      <td>Futrelle, Mrs. Jacques Heath (Lily May Peel)</td>\n",
              "      <td>female</td>\n",
              "      <td>35.0</td>\n",
              "      <td>1</td>\n",
              "      <td>0</td>\n",
              "      <td>113803</td>\n",
              "      <td>53.1000</td>\n",
              "      <td>C123</td>\n",
              "      <td>S</td>\n",
              "    </tr>\n",
              "    <tr>\n",
              "      <th>4</th>\n",
              "      <td>3</td>\n",
              "      <td>Allen, Mr. William Henry</td>\n",
              "      <td>male</td>\n",
              "      <td>35.0</td>\n",
              "      <td>0</td>\n",
              "      <td>0</td>\n",
              "      <td>373450</td>\n",
              "      <td>8.0500</td>\n",
              "      <td>NaN</td>\n",
              "      <td>S</td>\n",
              "    </tr>\n",
              "  </tbody>\n",
              "</table>\n",
              "</div>\n",
              "    <div class=\"colab-df-buttons\">\n",
              "\n",
              "  <div class=\"colab-df-container\">\n",
              "    <button class=\"colab-df-convert\" onclick=\"convertToInteractive('df-65858542-6a2d-4d54-841f-10d3918dcc37')\"\n",
              "            title=\"Convert this dataframe to an interactive table.\"\n",
              "            style=\"display:none;\">\n",
              "\n",
              "  <svg xmlns=\"http://www.w3.org/2000/svg\" height=\"24px\" viewBox=\"0 -960 960 960\">\n",
              "    <path d=\"M120-120v-720h720v720H120Zm60-500h600v-160H180v160Zm220 220h160v-160H400v160Zm0 220h160v-160H400v160ZM180-400h160v-160H180v160Zm440 0h160v-160H620v160ZM180-180h160v-160H180v160Zm440 0h160v-160H620v160Z\"/>\n",
              "  </svg>\n",
              "    </button>\n",
              "\n",
              "  <style>\n",
              "    .colab-df-container {\n",
              "      display:flex;\n",
              "      gap: 12px;\n",
              "    }\n",
              "\n",
              "    .colab-df-convert {\n",
              "      background-color: #E8F0FE;\n",
              "      border: none;\n",
              "      border-radius: 50%;\n",
              "      cursor: pointer;\n",
              "      display: none;\n",
              "      fill: #1967D2;\n",
              "      height: 32px;\n",
              "      padding: 0 0 0 0;\n",
              "      width: 32px;\n",
              "    }\n",
              "\n",
              "    .colab-df-convert:hover {\n",
              "      background-color: #E2EBFA;\n",
              "      box-shadow: 0px 1px 2px rgba(60, 64, 67, 0.3), 0px 1px 3px 1px rgba(60, 64, 67, 0.15);\n",
              "      fill: #174EA6;\n",
              "    }\n",
              "\n",
              "    .colab-df-buttons div {\n",
              "      margin-bottom: 4px;\n",
              "    }\n",
              "\n",
              "    [theme=dark] .colab-df-convert {\n",
              "      background-color: #3B4455;\n",
              "      fill: #D2E3FC;\n",
              "    }\n",
              "\n",
              "    [theme=dark] .colab-df-convert:hover {\n",
              "      background-color: #434B5C;\n",
              "      box-shadow: 0px 1px 3px 1px rgba(0, 0, 0, 0.15);\n",
              "      filter: drop-shadow(0px 1px 2px rgba(0, 0, 0, 0.3));\n",
              "      fill: #FFFFFF;\n",
              "    }\n",
              "  </style>\n",
              "\n",
              "    <script>\n",
              "      const buttonEl =\n",
              "        document.querySelector('#df-65858542-6a2d-4d54-841f-10d3918dcc37 button.colab-df-convert');\n",
              "      buttonEl.style.display =\n",
              "        google.colab.kernel.accessAllowed ? 'block' : 'none';\n",
              "\n",
              "      async function convertToInteractive(key) {\n",
              "        const element = document.querySelector('#df-65858542-6a2d-4d54-841f-10d3918dcc37');\n",
              "        const dataTable =\n",
              "          await google.colab.kernel.invokeFunction('convertToInteractive',\n",
              "                                                    [key], {});\n",
              "        if (!dataTable) return;\n",
              "\n",
              "        const docLinkHtml = 'Like what you see? Visit the ' +\n",
              "          '<a target=\"_blank\" href=https://colab.research.google.com/notebooks/data_table.ipynb>data table notebook</a>'\n",
              "          + ' to learn more about interactive tables.';\n",
              "        element.innerHTML = '';\n",
              "        dataTable['output_type'] = 'display_data';\n",
              "        await google.colab.output.renderOutput(dataTable, element);\n",
              "        const docLink = document.createElement('div');\n",
              "        docLink.innerHTML = docLinkHtml;\n",
              "        element.appendChild(docLink);\n",
              "      }\n",
              "    </script>\n",
              "  </div>\n",
              "\n",
              "\n",
              "<div id=\"df-fe431afc-9ba1-4c29-b415-de1349d6d3dd\">\n",
              "  <button class=\"colab-df-quickchart\" onclick=\"quickchart('df-fe431afc-9ba1-4c29-b415-de1349d6d3dd')\"\n",
              "            title=\"Suggest charts\"\n",
              "            style=\"display:none;\">\n",
              "\n",
              "<svg xmlns=\"http://www.w3.org/2000/svg\" height=\"24px\"viewBox=\"0 0 24 24\"\n",
              "     width=\"24px\">\n",
              "    <g>\n",
              "        <path d=\"M19 3H5c-1.1 0-2 .9-2 2v14c0 1.1.9 2 2 2h14c1.1 0 2-.9 2-2V5c0-1.1-.9-2-2-2zM9 17H7v-7h2v7zm4 0h-2V7h2v10zm4 0h-2v-4h2v4z\"/>\n",
              "    </g>\n",
              "</svg>\n",
              "  </button>\n",
              "\n",
              "<style>\n",
              "  .colab-df-quickchart {\n",
              "      --bg-color: #E8F0FE;\n",
              "      --fill-color: #1967D2;\n",
              "      --hover-bg-color: #E2EBFA;\n",
              "      --hover-fill-color: #174EA6;\n",
              "      --disabled-fill-color: #AAA;\n",
              "      --disabled-bg-color: #DDD;\n",
              "  }\n",
              "\n",
              "  [theme=dark] .colab-df-quickchart {\n",
              "      --bg-color: #3B4455;\n",
              "      --fill-color: #D2E3FC;\n",
              "      --hover-bg-color: #434B5C;\n",
              "      --hover-fill-color: #FFFFFF;\n",
              "      --disabled-bg-color: #3B4455;\n",
              "      --disabled-fill-color: #666;\n",
              "  }\n",
              "\n",
              "  .colab-df-quickchart {\n",
              "    background-color: var(--bg-color);\n",
              "    border: none;\n",
              "    border-radius: 50%;\n",
              "    cursor: pointer;\n",
              "    display: none;\n",
              "    fill: var(--fill-color);\n",
              "    height: 32px;\n",
              "    padding: 0;\n",
              "    width: 32px;\n",
              "  }\n",
              "\n",
              "  .colab-df-quickchart:hover {\n",
              "    background-color: var(--hover-bg-color);\n",
              "    box-shadow: 0 1px 2px rgba(60, 64, 67, 0.3), 0 1px 3px 1px rgba(60, 64, 67, 0.15);\n",
              "    fill: var(--button-hover-fill-color);\n",
              "  }\n",
              "\n",
              "  .colab-df-quickchart-complete:disabled,\n",
              "  .colab-df-quickchart-complete:disabled:hover {\n",
              "    background-color: var(--disabled-bg-color);\n",
              "    fill: var(--disabled-fill-color);\n",
              "    box-shadow: none;\n",
              "  }\n",
              "\n",
              "  .colab-df-spinner {\n",
              "    border: 2px solid var(--fill-color);\n",
              "    border-color: transparent;\n",
              "    border-bottom-color: var(--fill-color);\n",
              "    animation:\n",
              "      spin 1s steps(1) infinite;\n",
              "  }\n",
              "\n",
              "  @keyframes spin {\n",
              "    0% {\n",
              "      border-color: transparent;\n",
              "      border-bottom-color: var(--fill-color);\n",
              "      border-left-color: var(--fill-color);\n",
              "    }\n",
              "    20% {\n",
              "      border-color: transparent;\n",
              "      border-left-color: var(--fill-color);\n",
              "      border-top-color: var(--fill-color);\n",
              "    }\n",
              "    30% {\n",
              "      border-color: transparent;\n",
              "      border-left-color: var(--fill-color);\n",
              "      border-top-color: var(--fill-color);\n",
              "      border-right-color: var(--fill-color);\n",
              "    }\n",
              "    40% {\n",
              "      border-color: transparent;\n",
              "      border-right-color: var(--fill-color);\n",
              "      border-top-color: var(--fill-color);\n",
              "    }\n",
              "    60% {\n",
              "      border-color: transparent;\n",
              "      border-right-color: var(--fill-color);\n",
              "    }\n",
              "    80% {\n",
              "      border-color: transparent;\n",
              "      border-right-color: var(--fill-color);\n",
              "      border-bottom-color: var(--fill-color);\n",
              "    }\n",
              "    90% {\n",
              "      border-color: transparent;\n",
              "      border-bottom-color: var(--fill-color);\n",
              "    }\n",
              "  }\n",
              "</style>\n",
              "\n",
              "  <script>\n",
              "    async function quickchart(key) {\n",
              "      const quickchartButtonEl =\n",
              "        document.querySelector('#' + key + ' button');\n",
              "      quickchartButtonEl.disabled = true;  // To prevent multiple clicks.\n",
              "      quickchartButtonEl.classList.add('colab-df-spinner');\n",
              "      try {\n",
              "        const charts = await google.colab.kernel.invokeFunction(\n",
              "            'suggestCharts', [key], {});\n",
              "      } catch (error) {\n",
              "        console.error('Error during call to suggestCharts:', error);\n",
              "      }\n",
              "      quickchartButtonEl.classList.remove('colab-df-spinner');\n",
              "      quickchartButtonEl.classList.add('colab-df-quickchart-complete');\n",
              "    }\n",
              "    (() => {\n",
              "      let quickchartButtonEl =\n",
              "        document.querySelector('#df-fe431afc-9ba1-4c29-b415-de1349d6d3dd button');\n",
              "      quickchartButtonEl.style.display =\n",
              "        google.colab.kernel.accessAllowed ? 'block' : 'none';\n",
              "    })();\n",
              "  </script>\n",
              "</div>\n",
              "\n",
              "    </div>\n",
              "  </div>\n"
            ],
            "application/vnd.google.colaboratory.intrinsic+json": {
              "type": "dataframe",
              "variable_name": "dataset",
              "summary": "{\n  \"name\": \"dataset\",\n  \"rows\": 891,\n  \"fields\": [\n    {\n      \"column\": \"Pclass\",\n      \"properties\": {\n        \"dtype\": \"number\",\n        \"std\": 0,\n        \"min\": 1,\n        \"max\": 3,\n        \"num_unique_values\": 3,\n        \"samples\": [\n          3,\n          1,\n          2\n        ],\n        \"semantic_type\": \"\",\n        \"description\": \"\"\n      }\n    },\n    {\n      \"column\": \"Name\",\n      \"properties\": {\n        \"dtype\": \"string\",\n        \"num_unique_values\": 891,\n        \"samples\": [\n          \"Moubarek, Master. Halim Gonios (\\\"William George\\\")\",\n          \"Kvillner, Mr. Johan Henrik Johannesson\",\n          \"Alhomaki, Mr. Ilmari Rudolf\"\n        ],\n        \"semantic_type\": \"\",\n        \"description\": \"\"\n      }\n    },\n    {\n      \"column\": \"Sex\",\n      \"properties\": {\n        \"dtype\": \"category\",\n        \"num_unique_values\": 2,\n        \"samples\": [\n          \"female\",\n          \"male\"\n        ],\n        \"semantic_type\": \"\",\n        \"description\": \"\"\n      }\n    },\n    {\n      \"column\": \"Age\",\n      \"properties\": {\n        \"dtype\": \"number\",\n        \"std\": 14.526497332334044,\n        \"min\": 0.42,\n        \"max\": 80.0,\n        \"num_unique_values\": 88,\n        \"samples\": [\n          0.75,\n          22.0\n        ],\n        \"semantic_type\": \"\",\n        \"description\": \"\"\n      }\n    },\n    {\n      \"column\": \"SibSp\",\n      \"properties\": {\n        \"dtype\": \"number\",\n        \"std\": 1,\n        \"min\": 0,\n        \"max\": 8,\n        \"num_unique_values\": 7,\n        \"samples\": [\n          1,\n          0\n        ],\n        \"semantic_type\": \"\",\n        \"description\": \"\"\n      }\n    },\n    {\n      \"column\": \"Parch\",\n      \"properties\": {\n        \"dtype\": \"number\",\n        \"std\": 0,\n        \"min\": 0,\n        \"max\": 6,\n        \"num_unique_values\": 7,\n        \"samples\": [\n          0,\n          1\n        ],\n        \"semantic_type\": \"\",\n        \"description\": \"\"\n      }\n    },\n    {\n      \"column\": \"Ticket\",\n      \"properties\": {\n        \"dtype\": \"string\",\n        \"num_unique_values\": 681,\n        \"samples\": [\n          \"11774\",\n          \"248740\"\n        ],\n        \"semantic_type\": \"\",\n        \"description\": \"\"\n      }\n    },\n    {\n      \"column\": \"Fare\",\n      \"properties\": {\n        \"dtype\": \"number\",\n        \"std\": 49.693428597180905,\n        \"min\": 0.0,\n        \"max\": 512.3292,\n        \"num_unique_values\": 248,\n        \"samples\": [\n          11.2417,\n          51.8625\n        ],\n        \"semantic_type\": \"\",\n        \"description\": \"\"\n      }\n    },\n    {\n      \"column\": \"Cabin\",\n      \"properties\": {\n        \"dtype\": \"category\",\n        \"num_unique_values\": 147,\n        \"samples\": [\n          \"D45\",\n          \"B49\"\n        ],\n        \"semantic_type\": \"\",\n        \"description\": \"\"\n      }\n    },\n    {\n      \"column\": \"Embarked\",\n      \"properties\": {\n        \"dtype\": \"category\",\n        \"num_unique_values\": 3,\n        \"samples\": [\n          \"S\",\n          \"C\"\n        ],\n        \"semantic_type\": \"\",\n        \"description\": \"\"\n      }\n    }\n  ]\n}"
            }
          },
          "metadata": {},
          "execution_count": 4
        }
      ],
      "source": [
        "dataset_path = '/root/.cache/kagglehub/datasets/yasserh/titanic-dataset/versions/1/Titanic-Dataset.csv'\n",
        "dataset = pd.read_csv(dataset_path)\n",
        "dataset = dataset.drop(columns=[\"Survived\", \"PassengerId\"])\n",
        "dataset.head()"
      ]
    },
    {
      "cell_type": "code",
      "execution_count": 5,
      "metadata": {
        "execution": {
          "iopub.execute_input": "2024-12-23T04:17:54.676289Z",
          "iopub.status.busy": "2024-12-23T04:17:54.674956Z",
          "iopub.status.idle": "2024-12-23T04:17:54.689260Z",
          "shell.execute_reply": "2024-12-23T04:17:54.687955Z",
          "shell.execute_reply.started": "2024-12-23T04:17:54.676242Z"
        },
        "trusted": true,
        "colab": {
          "base_uri": "https://localhost:8080/",
          "height": 398
        },
        "id": "Y78kQLZGWvP0",
        "outputId": "b1254b18-1b25-467e-e29d-89a831db182e"
      },
      "outputs": [
        {
          "output_type": "execute_result",
          "data": {
            "text/plain": [
              "Pclass        0\n",
              "Name          0\n",
              "Sex           0\n",
              "Age         177\n",
              "SibSp         0\n",
              "Parch         0\n",
              "Ticket        0\n",
              "Fare          0\n",
              "Cabin       687\n",
              "Embarked      2\n",
              "dtype: int64"
            ],
            "text/html": [
              "<div>\n",
              "<style scoped>\n",
              "    .dataframe tbody tr th:only-of-type {\n",
              "        vertical-align: middle;\n",
              "    }\n",
              "\n",
              "    .dataframe tbody tr th {\n",
              "        vertical-align: top;\n",
              "    }\n",
              "\n",
              "    .dataframe thead th {\n",
              "        text-align: right;\n",
              "    }\n",
              "</style>\n",
              "<table border=\"1\" class=\"dataframe\">\n",
              "  <thead>\n",
              "    <tr style=\"text-align: right;\">\n",
              "      <th></th>\n",
              "      <th>0</th>\n",
              "    </tr>\n",
              "  </thead>\n",
              "  <tbody>\n",
              "    <tr>\n",
              "      <th>Pclass</th>\n",
              "      <td>0</td>\n",
              "    </tr>\n",
              "    <tr>\n",
              "      <th>Name</th>\n",
              "      <td>0</td>\n",
              "    </tr>\n",
              "    <tr>\n",
              "      <th>Sex</th>\n",
              "      <td>0</td>\n",
              "    </tr>\n",
              "    <tr>\n",
              "      <th>Age</th>\n",
              "      <td>177</td>\n",
              "    </tr>\n",
              "    <tr>\n",
              "      <th>SibSp</th>\n",
              "      <td>0</td>\n",
              "    </tr>\n",
              "    <tr>\n",
              "      <th>Parch</th>\n",
              "      <td>0</td>\n",
              "    </tr>\n",
              "    <tr>\n",
              "      <th>Ticket</th>\n",
              "      <td>0</td>\n",
              "    </tr>\n",
              "    <tr>\n",
              "      <th>Fare</th>\n",
              "      <td>0</td>\n",
              "    </tr>\n",
              "    <tr>\n",
              "      <th>Cabin</th>\n",
              "      <td>687</td>\n",
              "    </tr>\n",
              "    <tr>\n",
              "      <th>Embarked</th>\n",
              "      <td>2</td>\n",
              "    </tr>\n",
              "  </tbody>\n",
              "</table>\n",
              "</div><br><label><b>dtype:</b> int64</label>"
            ]
          },
          "metadata": {},
          "execution_count": 5
        }
      ],
      "source": [
        "dataset.isnull().sum()"
      ]
    },
    {
      "cell_type": "code",
      "execution_count": 6,
      "metadata": {
        "execution": {
          "iopub.execute_input": "2024-12-23T14:01:35.042308Z",
          "iopub.status.busy": "2024-12-23T14:01:35.041936Z",
          "iopub.status.idle": "2024-12-23T14:01:35.074065Z",
          "shell.execute_reply": "2024-12-23T14:01:35.072245Z",
          "shell.execute_reply.started": "2024-12-23T14:01:35.042282Z"
        },
        "trusted": true,
        "colab": {
          "base_uri": "https://localhost:8080/"
        },
        "id": "bEfa82tpWvP1",
        "outputId": "69a7e005-e5f0-4ae0-852d-67a0dce7fbee"
      },
      "outputs": [
        {
          "output_type": "stream",
          "name": "stdout",
          "text": [
            "   Pclass  Sex       Age     SibSp     Parch      Fare\n",
            "0       3    0 -0.592481  0.432793 -0.473674 -0.502445\n",
            "1       1    1  0.638789  0.432793 -0.473674  0.786845\n",
            "2       3    1 -0.284663 -0.474545 -0.473674 -0.488854\n",
            "3       1    1  0.407926  0.432793 -0.473674  0.420730\n",
            "4       3    0  0.407926 -0.474545 -0.473674 -0.486337\n"
          ]
        }
      ],
      "source": [
        "dataset['Sex'] = dataset['Sex'].map({'male': 0, 'female': 1})\n",
        "features_to_scale = ['Age', 'SibSp', 'Parch', 'Fare']\n",
        "\n",
        "numeric_columns = dataset.select_dtypes(include=[np.number])\n",
        "numeric_columns.fillna(numeric_columns.mean(), inplace=True)\n",
        "\n",
        "X_scaled = numeric_columns.copy()\n",
        "scaler = StandardScaler()\n",
        "X_scaled[features_to_scale] = scaler.fit_transform(X_scaled[features_to_scale])\n",
        "\n",
        "print(X_scaled.head())\n"
      ]
    },
    {
      "cell_type": "code",
      "execution_count": 7,
      "metadata": {
        "execution": {
          "iopub.execute_input": "2024-12-23T14:01:38.899268Z",
          "iopub.status.busy": "2024-12-23T14:01:38.898879Z",
          "iopub.status.idle": "2024-12-23T14:01:38.912638Z",
          "shell.execute_reply": "2024-12-23T14:01:38.911452Z",
          "shell.execute_reply.started": "2024-12-23T14:01:38.899240Z"
        },
        "trusted": true,
        "colab": {
          "base_uri": "https://localhost:8080/"
        },
        "id": "OAkA1GUVWvP2",
        "outputId": "d12950ad-1063-4712-9cca-7c7ee8d572b0"
      },
      "outputs": [
        {
          "output_type": "stream",
          "name": "stdout",
          "text": [
            "     Pclass  Sex       Age     SibSp     Parch      Fare\n",
            "331       1    0  1.215947 -0.474545 -0.473674 -0.074583\n",
            "733       2    0 -0.515526 -0.474545 -0.473674 -0.386671\n",
            "382       3    0  0.177063 -0.474545 -0.473674 -0.488854\n",
            "704       3    0 -0.284663  0.432793 -0.473674 -0.490280\n",
            "813       3    1 -1.823750  3.154809  2.008933 -0.018709\n",
            "..      ...  ...       ...       ...       ...       ...\n",
            "106       3    1 -0.669435 -0.474545 -0.473674 -0.494391\n",
            "270       1    0  0.000000 -0.474545 -0.473674 -0.024246\n",
            "860       3    0  0.869652  1.340132 -0.473674 -0.364355\n",
            "435       1    1 -1.208115  0.432793  2.008933  1.767741\n",
            "102       1    0 -0.669435 -0.474545  0.767630  0.907738\n",
            "\n",
            "[712 rows x 6 columns]\n",
            "Number of training samples: 712\n",
            "Number of testing samples: 179\n"
          ]
        }
      ],
      "source": [
        "train, test = train_test_split(X_scaled, test_size=0.2, random_state=42)\n",
        "print(train)\n",
        "print(f\"Number of training samples: {len(train)}\")\n",
        "print(f\"Number of testing samples: {len(test)}\")"
      ]
    },
    {
      "cell_type": "markdown",
      "metadata": {
        "id": "bXWqi4MCDI-4"
      },
      "source": [
        "# Calc Mean, Shifted FV & Covariance matrix"
      ]
    },
    {
      "cell_type": "code",
      "execution_count": 8,
      "metadata": {
        "execution": {
          "iopub.execute_input": "2024-12-23T14:01:46.880721Z",
          "iopub.status.busy": "2024-12-23T14:01:46.880340Z",
          "iopub.status.idle": "2024-12-23T14:01:46.886131Z",
          "shell.execute_reply": "2024-12-23T14:01:46.884727Z",
          "shell.execute_reply.started": "2024-12-23T14:01:46.880692Z"
        },
        "id": "9rWHYewbDI-5",
        "trusted": true
      },
      "outputs": [],
      "source": [
        "def mean_centered(X):   #--> shifted fv\n",
        "    mean = np.mean(X, axis=0)\n",
        "    shifted_fv = X - mean\n",
        "    return shifted_fv, mean"
      ]
    },
    {
      "cell_type": "code",
      "execution_count": 9,
      "metadata": {
        "execution": {
          "iopub.execute_input": "2024-12-23T14:01:49.605943Z",
          "iopub.status.busy": "2024-12-23T14:01:49.605522Z",
          "iopub.status.idle": "2024-12-23T14:01:49.620579Z",
          "shell.execute_reply": "2024-12-23T14:01:49.619168Z",
          "shell.execute_reply.started": "2024-12-23T14:01:49.605897Z"
        },
        "id": "jVxs8N36DI-5",
        "outputId": "a795b0b8-21af-4584-f927-3a141c35f16d",
        "trusted": true,
        "colab": {
          "base_uri": "https://localhost:8080/"
        }
      },
      "outputs": [
        {
          "output_type": "stream",
          "name": "stdout",
          "text": [
            "Shape of Training Covariance Matrix: (6, 6)\n",
            "Shape of Testing Covariance Matrix: (6, 6)\n"
          ]
        }
      ],
      "source": [
        "def calc_cov_matrix(mean_centered):\n",
        "    cov_matrix = np.cov(mean_centered, rowvar=False)\n",
        "    return cov_matrix\n",
        "\n",
        "train_fv, train_mean = mean_centered(train)\n",
        "train_cov_matrix = calc_cov_matrix(train_fv)\n",
        "\n",
        "test_fv, test_mean = mean_centered(test)\n",
        "test_cov_matrix = calc_cov_matrix(test_fv)\n",
        "\n",
        "print(f\"Shape of Training Covariance Matrix: {train_cov_matrix.shape}\")\n",
        "print(f\"Shape of Testing Covariance Matrix: {test_cov_matrix.shape}\")"
      ]
    },
    {
      "cell_type": "markdown",
      "metadata": {
        "id": "xfl-FX3uDI-5"
      },
      "source": [
        "# Calc Eigenvalues & Eigenvector"
      ]
    },
    {
      "cell_type": "code",
      "execution_count": 10,
      "metadata": {
        "execution": {
          "iopub.execute_input": "2024-12-23T14:01:53.614357Z",
          "iopub.status.busy": "2024-12-23T14:01:53.614017Z",
          "iopub.status.idle": "2024-12-23T14:01:53.621025Z",
          "shell.execute_reply": "2024-12-23T14:01:53.619721Z",
          "shell.execute_reply.started": "2024-12-23T14:01:53.614334Z"
        },
        "id": "hALjlXHEDI-6",
        "trusted": true
      },
      "outputs": [],
      "source": [
        "def power_iteration(A, num_iterations=100):\n",
        "    n = A.shape[0]\n",
        "    V = np.random.rand(n)\n",
        "    for _ in range(num_iterations):\n",
        "        AV = A.dot(V)\n",
        "        eigenvalue = np.linalg.norm(AV)\n",
        "        V = AV / eigenvalue\n",
        "    return eigenvalue, V"
      ]
    },
    {
      "cell_type": "code",
      "execution_count": 11,
      "metadata": {
        "execution": {
          "iopub.execute_input": "2024-12-23T14:01:57.043414Z",
          "iopub.status.busy": "2024-12-23T14:01:57.043020Z",
          "iopub.status.idle": "2024-12-23T14:01:57.059363Z",
          "shell.execute_reply": "2024-12-23T14:01:57.058234Z",
          "shell.execute_reply.started": "2024-12-23T14:01:57.043383Z"
        },
        "id": "4a4ygLqnDI-6",
        "trusted": true,
        "colab": {
          "base_uri": "https://localhost:8080/"
        },
        "outputId": "5c8873ed-0961-40ae-bbab-72f90fdaf4f1"
      },
      "outputs": [
        {
          "output_type": "stream",
          "name": "stdout",
          "text": [
            "Eigenvalues: [1.76106199 1.50803841 0.74180392 0.57947443 0.31602969 0.19948931]\n",
            "Eigenvectors:\n",
            "[[-0.0323042   0.54913855  0.10436588  0.06697047 -0.8107932   0.15697263]\n",
            " [ 0.09563688 -0.04316119 -0.04679264  0.12200227  0.15936673  0.972892  ]\n",
            " [-0.3146822  -0.47976384  0.78934543  0.08139499 -0.19077863  0.06865818]\n",
            " [ 0.65723133  0.15087067  0.43378401 -0.59072484  0.08743628  0.02270492]\n",
            " [ 0.57438366  0.01879067  0.18489817  0.78095164  0.04859779 -0.15262959]\n",
            " [ 0.35904809 -0.66580446 -0.37615968 -0.12314204 -0.52039725  0.01776247]]\n"
          ]
        }
      ],
      "source": [
        "def calculate_eigenvalues_eigenvectors(covariance_matrix, num_iterations):\n",
        "    n = covariance_matrix.shape[0]\n",
        "    matrix_copy = np.copy(covariance_matrix).astype(np.float64)\n",
        "    eigenvectors = np.eye(n)\n",
        "    eigenvalues = []\n",
        "\n",
        "    for i in range(n):\n",
        "        eigenvalue, eigenvector = power_iteration(matrix_copy, num_iterations)\n",
        "        eigenvalues.append(eigenvalue)\n",
        "        eigenvectors[:, i] = eigenvector\n",
        "\n",
        "        matrix_copy -= eigenvalue * np.outer(eigenvector, eigenvector)\n",
        "\n",
        "    return np.array(eigenvalues), eigenvectors\n",
        "\n",
        "num_iterations = 100\n",
        "eigenvalues, eigenvectors = calculate_eigenvalues_eigenvectors(train_cov_matrix, num_iterations)\n",
        "\n",
        "print(\"Eigenvalues:\", eigenvalues)\n",
        "print(\"Eigenvectors:\")\n",
        "print(eigenvectors)\n"
      ]
    },
    {
      "cell_type": "markdown",
      "metadata": {
        "id": "6hjVrN9FDI-6"
      },
      "source": [
        "# Formulate the Q matrix using selected eigenvectors"
      ]
    },
    {
      "cell_type": "code",
      "execution_count": 12,
      "metadata": {
        "execution": {
          "iopub.execute_input": "2024-12-23T14:02:33.299926Z",
          "iopub.status.busy": "2024-12-23T14:02:33.299459Z",
          "iopub.status.idle": "2024-12-23T14:02:33.312757Z",
          "shell.execute_reply": "2024-12-23T14:02:33.311497Z",
          "shell.execute_reply.started": "2024-12-23T14:02:33.299875Z"
        },
        "trusted": true,
        "colab": {
          "base_uri": "https://localhost:8080/"
        },
        "id": "i-_f-HnMWvP8",
        "outputId": "92aab65d-11c0-46ef-9957-298cef37b23f"
      },
      "outputs": [
        {
          "output_type": "stream",
          "name": "stdout",
          "text": [
            "\n",
            "For k = 1, evaluating Q matrices:\n",
            "Indices: (0,), Variance Explained: 34.49%\n",
            "Indices: (1,), Variance Explained: 29.54%\n",
            "Indices: (2,), Variance Explained: 14.53%\n",
            "Indices: (3,), Variance Explained: 11.35%\n",
            "Indices: (4,), Variance Explained: 6.19%\n",
            "Indices: (5,), Variance Explained: 3.91%\n",
            "Shape of Q: (6, 1)\n",
            "\n",
            "For k = 2, evaluating Q matrices:\n",
            "Indices: (0, 1), Variance Explained: 64.03%\n",
            "Indices: (0, 2), Variance Explained: 49.02%\n",
            "Indices: (0, 3), Variance Explained: 45.84%\n",
            "Indices: (0, 4), Variance Explained: 40.68%\n",
            "Indices: (0, 5), Variance Explained: 38.40%\n",
            "Indices: (1, 2), Variance Explained: 44.06%\n",
            "Indices: (1, 3), Variance Explained: 40.88%\n",
            "Indices: (1, 4), Variance Explained: 35.72%\n",
            "Indices: (1, 5), Variance Explained: 33.44%\n",
            "Indices: (2, 3), Variance Explained: 25.88%\n",
            "Indices: (2, 4), Variance Explained: 20.72%\n",
            "Indices: (2, 5), Variance Explained: 18.44%\n",
            "Indices: (3, 4), Variance Explained: 17.54%\n",
            "Indices: (3, 5), Variance Explained: 15.26%\n",
            "Indices: (4, 5), Variance Explained: 10.10%\n",
            "Shape of Q: (6, 2)\n",
            "\n",
            "For k = 3, evaluating Q matrices:\n",
            "Indices: (0, 1, 2), Variance Explained: 78.55%\n",
            "Indices: (0, 1, 3), Variance Explained: 75.38%\n",
            "Indices: (0, 1, 4), Variance Explained: 70.22%\n",
            "Indices: (0, 1, 5), Variance Explained: 67.93%\n",
            "Indices: (0, 2, 3), Variance Explained: 60.37%\n",
            "Indices: (0, 2, 4), Variance Explained: 55.21%\n",
            "Indices: (0, 2, 5), Variance Explained: 52.93%\n",
            "Indices: (0, 3, 4), Variance Explained: 52.03%\n",
            "Indices: (0, 3, 5), Variance Explained: 49.75%\n",
            "Indices: (0, 4, 5), Variance Explained: 44.59%\n",
            "Indices: (1, 2, 3), Variance Explained: 55.41%\n",
            "Indices: (1, 2, 4), Variance Explained: 50.25%\n",
            "Indices: (1, 2, 5), Variance Explained: 47.97%\n",
            "Indices: (1, 3, 4), Variance Explained: 47.07%\n",
            "Indices: (1, 3, 5), Variance Explained: 44.79%\n",
            "Indices: (1, 4, 5), Variance Explained: 39.63%\n",
            "Indices: (2, 3, 4), Variance Explained: 32.07%\n",
            "Indices: (2, 3, 5), Variance Explained: 29.78%\n",
            "Indices: (2, 4, 5), Variance Explained: 24.62%\n",
            "Indices: (3, 4, 5), Variance Explained: 21.45%\n",
            "Shape of Q: (6, 3)\n",
            "\n",
            "For k = 4, evaluating Q matrices:\n",
            "Indices: (0, 1, 2, 3), Variance Explained: 89.90%\n",
            "Indices: (0, 1, 2, 4), Variance Explained: 84.74%\n",
            "Indices: (0, 1, 2, 5), Variance Explained: 82.46%\n",
            "Indices: (0, 1, 3, 4), Variance Explained: 81.56%\n",
            "Indices: (0, 1, 3, 5), Variance Explained: 79.28%\n",
            "Indices: (0, 1, 4, 5), Variance Explained: 74.12%\n",
            "Indices: (0, 2, 3, 4), Variance Explained: 66.56%\n",
            "Indices: (0, 2, 3, 5), Variance Explained: 64.28%\n",
            "Indices: (0, 2, 4, 5), Variance Explained: 59.12%\n",
            "Indices: (0, 3, 4, 5), Variance Explained: 55.94%\n",
            "Indices: (1, 2, 3, 4), Variance Explained: 61.60%\n",
            "Indices: (1, 2, 3, 5), Variance Explained: 59.32%\n",
            "Indices: (1, 2, 4, 5), Variance Explained: 54.16%\n",
            "Indices: (1, 3, 4, 5), Variance Explained: 50.98%\n",
            "Indices: (2, 3, 4, 5), Variance Explained: 35.97%\n",
            "Shape of Q: (6, 4)\n",
            "\n",
            "For k = 5, evaluating Q matrices:\n",
            "Indices: (0, 1, 2, 3, 4), Variance Explained: 96.09%\n",
            "Indices: (0, 1, 2, 3, 5), Variance Explained: 93.81%\n",
            "Indices: (0, 1, 2, 4, 5), Variance Explained: 88.65%\n",
            "Indices: (0, 1, 3, 4, 5), Variance Explained: 85.47%\n",
            "Indices: (0, 2, 3, 4, 5), Variance Explained: 70.46%\n",
            "Indices: (1, 2, 3, 4, 5), Variance Explained: 65.51%\n",
            "Shape of Q: (6, 5)\n",
            "\n",
            "For k = 6, evaluating Q matrices:\n",
            "Indices: (0, 1, 2, 3, 4, 5), Variance Explained: 100.00%\n",
            "Shape of Q: (6, 6)\n"
          ]
        }
      ],
      "source": [
        "k_values = [1, 2, 3, 4, 5, 6]\n",
        "\n",
        "best_Q_matrices = {}\n",
        "best_variance_explained = {}\n",
        "explained_variances = []\n",
        "\n",
        "total_variance = np.sum(eigenvalues)\n",
        "\n",
        "\n",
        "for k in k_values:\n",
        "    max_variance = 0\n",
        "    best_Q = None\n",
        "    print(f\"\\nFor k = {k}, evaluating Q matrices:\")\n",
        "\n",
        "    for indices in combinations(range(eigenvectors.shape[1]), k):\n",
        "        Q = eigenvectors[:, indices]\n",
        "        variance_explained = np.sum(eigenvalues[list(indices)]) / total_variance * 100\n",
        "\n",
        "        print(f\"Indices: {indices}, Variance Explained: {variance_explained:.2f}%\")\n",
        "\n",
        "        if variance_explained > max_variance:\n",
        "            max_variance = variance_explained\n",
        "            best_Q = Q\n",
        "\n",
        "    print(f\"Shape of Q: {best_Q.shape}\")\n",
        "    best_Q_matrices[k] = best_Q\n",
        "    best_variance_explained[k] = max_variance\n",
        "    explained_variances.append(max_variance)"
      ]
    },
    {
      "cell_type": "markdown",
      "metadata": {
        "id": "hPOeYrZuDI-6"
      },
      "source": [
        "# Transformation"
      ]
    },
    {
      "cell_type": "code",
      "execution_count": 13,
      "metadata": {
        "execution": {
          "iopub.execute_input": "2024-12-23T14:17:17.572758Z",
          "iopub.status.busy": "2024-12-23T14:17:17.572387Z",
          "iopub.status.idle": "2024-12-23T14:17:17.579376Z",
          "shell.execute_reply": "2024-12-23T14:17:17.577993Z",
          "shell.execute_reply.started": "2024-12-23T14:17:17.572729Z"
        },
        "trusted": true,
        "colab": {
          "base_uri": "https://localhost:8080/"
        },
        "id": "d3N_jiYDWvP9",
        "outputId": "900bfbdd-1372-4608-8d69-82570abc9e61"
      },
      "outputs": [
        {
          "output_type": "stream",
          "name": "stdout",
          "text": [
            "Shape of Transformed Data (k=5): (712, 5)\n"
          ]
        }
      ],
      "source": [
        "chosen_k = 5\n",
        "final_Q = best_Q_matrices[chosen_k]\n",
        "transformed_data = train_fv.dot(final_Q)\n",
        "\n",
        "print(f\"Shape of Transformed Data (k={chosen_k}): {transformed_data.shape}\")"
      ]
    },
    {
      "cell_type": "markdown",
      "metadata": {
        "id": "fb7MUzxvDI-6"
      },
      "source": [
        "# Evaluate Q Matrices"
      ]
    },
    {
      "cell_type": "code",
      "execution_count": 14,
      "metadata": {
        "execution": {
          "iopub.execute_input": "2024-12-23T14:09:14.580204Z",
          "iopub.status.busy": "2024-12-23T14:09:14.579820Z",
          "iopub.status.idle": "2024-12-23T14:09:14.586972Z",
          "shell.execute_reply": "2024-12-23T14:09:14.585630Z",
          "shell.execute_reply.started": "2024-12-23T14:09:14.580175Z"
        },
        "trusted": true,
        "id": "awD3gFtfWvP-"
      },
      "outputs": [],
      "source": [
        "train_cov_matrix = np.cov(train_fv.T)"
      ]
    },
    {
      "cell_type": "code",
      "source": [
        "def calculate_reconstruction_error(original_data, transformed_data, Q):\n",
        "\n",
        "    reconstructed_data = transformed_data @ Q.T\n",
        "    original_data = np.array(original_data)\n",
        "    mse = np.mean((original_data - reconstructed_data) ** 2)\n",
        "\n",
        "    print(f\"Original Data Shape: {original_data.shape}\")\n",
        "    print(f\"Reconstructed Data Shape: {reconstructed_data.shape}\")\n",
        "\n",
        "    return mse"
      ],
      "metadata": {
        "id": "2fVDKSL9YzmS"
      },
      "execution_count": 15,
      "outputs": []
    },
    {
      "cell_type": "code",
      "execution_count": 16,
      "metadata": {
        "execution": {
          "iopub.execute_input": "2024-12-23T14:17:24.541351Z",
          "iopub.status.busy": "2024-12-23T14:17:24.540987Z",
          "iopub.status.idle": "2024-12-23T14:17:24.547540Z",
          "shell.execute_reply": "2024-12-23T14:17:24.546386Z",
          "shell.execute_reply.started": "2024-12-23T14:17:24.541313Z"
        },
        "trusted": true,
        "colab": {
          "base_uri": "https://localhost:8080/"
        },
        "id": "NNUDCDE8WvQA",
        "outputId": "10da202b-22b9-4a34-c7f0-7c8c4ec02945"
      },
      "outputs": [
        {
          "output_type": "stream",
          "name": "stdout",
          "text": [
            "Q^T * Q:\n",
            "[[ 1.00000000e+00  2.30026306e-08  1.64470460e-16 -1.04641973e-16\n",
            "   1.41181899e-16]\n",
            " [ 2.30026306e-08  1.00000000e+00  5.12471008e-17  4.27354517e-17\n",
            "  -1.15415626e-17]\n",
            " [ 1.64470460e-16  5.12471008e-17  1.00000000e+00  5.45659069e-12\n",
            "   2.61694953e-17]\n",
            " [-1.04641973e-16  4.27354517e-17  5.45659069e-12  1.00000000e+00\n",
            "  -1.33467214e-17]\n",
            " [ 1.41181899e-16 -1.15415626e-17  2.61694953e-17 -1.33467214e-17\n",
            "   1.00000000e+00]]\n"
          ]
        }
      ],
      "source": [
        "print(f\"Q^T * Q:\\n{final_Q.T @ final_Q}\")"
      ]
    },
    {
      "cell_type": "code",
      "execution_count": 17,
      "metadata": {
        "execution": {
          "iopub.execute_input": "2024-12-23T14:17:27.559448Z",
          "iopub.status.busy": "2024-12-23T14:17:27.559057Z",
          "iopub.status.idle": "2024-12-23T14:17:27.566221Z",
          "shell.execute_reply": "2024-12-23T14:17:27.565118Z",
          "shell.execute_reply.started": "2024-12-23T14:17:27.559418Z"
        },
        "trusted": true,
        "colab": {
          "base_uri": "https://localhost:8080/"
        },
        "id": "TfYtErkXWvQA",
        "outputId": "d848e50b-e202-4e5c-e18c-0d22571231ee"
      },
      "outputs": [
        {
          "output_type": "stream",
          "name": "stdout",
          "text": [
            "Original Data Shape: (712, 6)\n",
            "Reconstructed Data Shape: (712, 6)\n",
            "Reconstruction Error for k=5: 0.033202\n"
          ]
        }
      ],
      "source": [
        "reconstruction_error = calculate_reconstruction_error(train_fv, transformed_data, final_Q)\n",
        "print(f\"Reconstruction Error for k={chosen_k}: {reconstruction_error:.6f}\")"
      ]
    },
    {
      "cell_type": "markdown",
      "metadata": {
        "id": "n0TY3COzDI-6"
      },
      "source": [
        "# Visualize explained variance ratio"
      ]
    },
    {
      "cell_type": "code",
      "execution_count": 18,
      "metadata": {
        "execution": {
          "iopub.execute_input": "2024-12-23T13:46:32.508175Z",
          "iopub.status.busy": "2024-12-23T13:46:32.507770Z",
          "iopub.status.idle": "2024-12-23T13:46:32.517343Z",
          "shell.execute_reply": "2024-12-23T13:46:32.515209Z",
          "shell.execute_reply.started": "2024-12-23T13:46:32.508147Z"
        },
        "id": "mwxtCNbZDI-7",
        "trusted": true
      },
      "outputs": [],
      "source": [
        "def plot_explained_variance(k_values, explained_variances):\n",
        "    plt.figure(figsize=(8, 5))\n",
        "    plt.plot(k_values, explained_variances, marker='o', label=\"Variance Explained\")\n",
        "    plt.xlabel(\"Number of Components (k)\")\n",
        "    plt.ylabel(\"Variance Explained (%)\")\n",
        "    plt.title(\"Explained Variance vs. Number of Components\")\n",
        "    plt.grid()\n",
        "    plt.legend()\n",
        "    plt.show()"
      ]
    },
    {
      "cell_type": "code",
      "execution_count": 19,
      "metadata": {
        "execution": {
          "iopub.execute_input": "2024-12-23T13:46:37.593275Z",
          "iopub.status.busy": "2024-12-23T13:46:37.591983Z",
          "iopub.status.idle": "2024-12-23T13:46:37.968685Z",
          "shell.execute_reply": "2024-12-23T13:46:37.967235Z",
          "shell.execute_reply.started": "2024-12-23T13:46:37.593222Z"
        },
        "trusted": true,
        "colab": {
          "base_uri": "https://localhost:8080/",
          "height": 487
        },
        "id": "uRxH7_WOWvQC",
        "outputId": "63957930-691c-4368-bb0e-b4967b01b0a3"
      },
      "outputs": [
        {
          "output_type": "display_data",
          "data": {
            "text/plain": [
              "<Figure size 800x500 with 1 Axes>"
            ],
            "image/png": "[encoded data removed]"
          },
          "metadata": {}
        }
      ],
      "source": [
        "plot_explained_variance(k_values, explained_variances)"
      ]
    },
    {
      "cell_type": "code",
      "source": [
        "k_values = [1, 2, 3, 4, 5]\n",
        "explained_variances = []\n",
        "reconstruction_errors = []\n",
        "\n",
        "total_variance = np.sum(eigenvalues)\n",
        "\n",
        "for k in k_values:\n",
        "    max_variance = 0\n",
        "    best_Q = None\n",
        "\n",
        "    for indices in combinations(range(eigenvectors.shape[1]), k):\n",
        "        Q = eigenvectors[:, indices]\n",
        "        variance_explained = np.sum(eigenvalues[list(indices)]) / total_variance * 100\n",
        "\n",
        "        if variance_explained > max_variance:\n",
        "            max_variance = variance_explained\n",
        "            best_Q = Q\n",
        "\n",
        "    explained_variances.append(max_variance)\n",
        "\n",
        "\n",
        "    transformed_data = train_fv.dot(best_Q)\n",
        "    reconstruction_error = calculate_reconstruction_error(train_fv, transformed_data, best_Q)\n",
        "    reconstruction_errors.append(reconstruction_error)"
      ],
      "metadata": {
        "colab": {
          "base_uri": "https://localhost:8080/"
        },
        "id": "mIzDOgLUl99x",
        "outputId": "f2927587-a53c-4ec0-b6eb-661a92ca2993"
      },
      "execution_count": 20,
      "outputs": [
        {
          "output_type": "stream",
          "name": "stdout",
          "text": [
            "Original Data Shape: (712, 6)\n",
            "Reconstructed Data Shape: (712, 6)\n",
            "Original Data Shape: (712, 6)\n",
            "Reconstructed Data Shape: (712, 6)\n",
            "Original Data Shape: (712, 6)\n",
            "Reconstructed Data Shape: (712, 6)\n",
            "Original Data Shape: (712, 6)\n",
            "Reconstructed Data Shape: (712, 6)\n",
            "Original Data Shape: (712, 6)\n",
            "Reconstructed Data Shape: (712, 6)\n"
          ]
        }
      ]
    },
    {
      "cell_type": "code",
      "source": [
        "def plot_results(k_values, explained_variances, reconstruction_errors):\n",
        "    fig, ax1 = plt.subplots(figsize=(8, 5))\n",
        "\n",
        "    ax1.set_xlabel(\"Number of Components (k)\")\n",
        "    ax1.set_ylabel(\"Variance Explained (%)\", color=\"tab:blue\")\n",
        "    ax1.plot(k_values, explained_variances, marker='o', color=\"tab:blue\", label=\"Variance Explained\")\n",
        "    ax1.tick_params(axis='y', labelcolor=\"tab:blue\")\n",
        "\n",
        "    ax2 = ax1.twinx()\n",
        "    ax2.set_ylabel(\"Reconstruction Error\", color=\"tab:red\")\n",
        "    ax2.plot(k_values, reconstruction_errors, marker='o', color=\"tab:red\", label=\"Reconstruction Error\")\n",
        "    ax2.tick_params(axis='y', labelcolor=\"tab:red\")\n",
        "\n",
        "    fig.tight_layout()\n",
        "    plt.title(\"Explained Variance and Reconstruction Error vs. Number of Components (k)\")\n",
        "    plt.show()\n",
        "\n",
        "\n",
        "plot_results(k_values, explained_variances, reconstruction_errors)\n",
        "\n",
        "\n",
        "best_k = k_values[np.argmin(reconstruction_errors)]\n",
        "print(f\"\\nBest k based on reconstruction error: {best_k}\")\n",
        "lowest_reconstruction_error = np.min(reconstruction_errors)\n",
        "print(f\"Lowest Reconstruction Error: {lowest_reconstruction_error:.6f}\")"
      ],
      "metadata": {
        "colab": {
          "base_uri": "https://localhost:8080/",
          "height": 581
        },
        "id": "-XFjsLAbirKb",
        "outputId": "8da73815-1e9f-499e-ab00-51b257632f8c"
      },
      "execution_count": 21,
      "outputs": [
        {
          "output_type": "display_data",
          "data": {
            "text/plain": [
              "<Figure size 800x500 with 2 Axes>"
            ],
            "image/png": "[encoded data removed]"
          },
          "metadata": {}
        },
        {
          "output_type": "stream",
          "name": "stdout",
          "text": [
            "\n",
            "Best k based on reconstruction error: 5\n",
            "Lowest Reconstruction Error: 0.033202\n"
          ]
        }
      ]
    },
    {
      "cell_type": "code",
      "source": [
        "for i in range(len(k_values)):\n",
        "    print(f\"For k = {k_values[i]}, Reconstruction Error = {reconstruction_errors[i]:.6f}\")\n"
      ],
      "metadata": {
        "colab": {
          "base_uri": "https://localhost:8080/"
        },
        "id": "t5EIKqMupaMM",
        "outputId": "b9c57267-2e54-4269-8be4-62e955d09b00"
      },
      "execution_count": 22,
      "outputs": [
        {
          "output_type": "stream",
          "name": "stdout",
          "text": [
            "For k = 1, Reconstruction Error = 0.556690\n",
            "For k = 2, Reconstruction Error = 0.305703\n",
            "For k = 3, Reconstruction Error = 0.182243\n",
            "For k = 4, Reconstruction Error = 0.085799\n",
            "For k = 5, Reconstruction Error = 0.033202\n"
          ]
        }
      ]
    }
  ],
  "metadata": {
    "colab": {
      "provenance": []
    },
    "kaggle": {
      "accelerator": "none",
      "dataSources": [
        {
          "datasetId": 826163,
          "sourceId": 2879186,
          "sourceType": "datasetVersion"
        }
      ],
      "dockerImageVersionId": 30698,
      "isGpuEnabled": false,
      "isInternetEnabled": true,
      "language": "python",
      "sourceType": "notebook"
    },
    "kernelspec": {
      "display_name": "Python 3",
      "language": "python",
      "name": "python3"
    },
    "language_info": {
      "codemirror_mode": {
        "name": "ipython",
        "version": 3
      },
      "file_extension": ".py",
      "mimetype": "text/x-python",
      "name": "python",
      "nbconvert_exporter": "python",
      "pygments_lexer": "ipython3",
      "version": "3.10.13"
    }
  },
  "nbformat": 4,
  "nbformat_minor": 0
}